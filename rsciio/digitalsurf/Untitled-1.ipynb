{
 "cells": [
  {
   "cell_type": "code",
   "execution_count": 1,
   "metadata": {},
   "outputs": [],
   "source": [
    "from rsciio.digitalsurf._api import DigitalSurfHandler\n",
    "import hyperspy.api as hs\n",
    "import numpy as np\n",
    "import pathlib\n",
    "import matplotlib.pyplot as plt\n",
    "%matplotlib qt\n",
    "\n",
    "savedir = pathlib.Path().home().joinpath(\"OneDrive - Attolight/Desktop/\")"
   ]
  },
  {
   "cell_type": "code",
   "execution_count": 3,
   "metadata": {},
   "outputs": [],
   "source": [
    "ddd = np.loadtxt(r\"C:\\Users\\NicolasTappy\\Attolight Dropbox\\ATT_RnD\\INJECT\\BEAMFOUR\\BeamFour-end-users_Windows\\histo2dim_500mmoffset.txt\",delimiter=',')"
   ]
  },
  {
   "cell_type": "code",
   "execution_count": 26,
   "metadata": {},
   "outputs": [
    {
     "data": {
      "text/plain": [
       "255"
      ]
     },
     "execution_count": 26,
     "metadata": {},
     "output_type": "execute_result"
    }
   ],
   "source": [
    "np.iinfo(np.uint8).max"
   ]
  },
  {
   "cell_type": "code",
   "execution_count": 35,
   "metadata": {},
   "outputs": [
    {
     "data": {
      "text/plain": [
       "<Signal1D, title: , dimensions: (38, 17, 5|3)>"
      ]
     },
     "execution_count": 35,
     "metadata": {},
     "output_type": "execute_result"
    }
   ],
   "source": [
    "dt = np.uint8\n",
    "maxint = np.iinfo(dt).max\n",
    "np.random.randint(low=0,high=maxint,size=(17,38,3),dtype=dt)\n",
    "size = (5,17,38,3)\n",
    "maxint = np.iinfo(dt).max\n",
    "\n",
    "gen = hs.signals.Signal1D(np.random.randint(low=0,high=maxint,size=size,dtype=dt))\n",
    "gen\n",
    "# gen.change_dtype('rgb8')"
   ]
  },
  {
   "cell_type": "code",
   "execution_count": 36,
   "metadata": {},
   "outputs": [
    {
     "data": {
      "application/vnd.jupyter.widget-view+json": {
       "model_id": "52c591c4ee4f44d6a582c5958ecffd12",
       "version_major": 2,
       "version_minor": 0
      },
      "text/plain": [
       "VBox(children=(HBox(children=(Label(value='Unnamed 0th axis', layout=Layout(width='15%')), IntSlider(value=0, …"
      ]
     },
     "metadata": {},
     "output_type": "display_data"
    }
   ],
   "source": [
    "gen.change_dtype('rgb8')\n",
    "gen.plot()"
   ]
  },
  {
   "cell_type": "code",
   "execution_count": 9,
   "metadata": {},
   "outputs": [
    {
     "data": {
      "text/plain": [
       "Text(0, 0.5, 'Y (um)')"
      ]
     },
     "execution_count": 9,
     "metadata": {},
     "output_type": "execute_result"
    }
   ],
   "source": [
    "plt.matshow(ddd)\n",
    "plt.xlabel('X (um)')\n",
    "plt.ylabel('Y (um)')"
   ]
  },
  {
   "cell_type": "code",
   "execution_count": null,
   "metadata": {},
   "outputs": [],
   "source": [
    "def diffdic(a:dict,b:dict):\n",
    "    set1 = set(a.items())\n",
    "    set2 = set(b.items())\n",
    "    return set1^set2"
   ]
  },
  {
   "cell_type": "code",
   "execution_count": null,
   "metadata": {},
   "outputs": [],
   "source": [
    "import struct\n",
    "def _pack_str(val, size, encoding=\"latin-1\"):\n",
    "    \"\"\"Write a str of defined size in bytes to a file. struct.pack\n",
    "    will automatically trim the string if it is too long\"\"\"\n",
    "    return struct.pack(\"<{:d}s\".format(size), f\"{val}\".ljust(size).encode(encoding))"
   ]
  },
  {
   "cell_type": "code",
   "execution_count": null,
   "metadata": {},
   "outputs": [],
   "source": [
    "testdir = pathlib.Path(r'C:\\Program Files\\Attolight\\AttoMap Advanced 7.4\\Example Data')\n",
    "testfiles = list(testdir.glob('*.sur'))+list(testdir.glob('*pro'))\n",
    "list(testfiles)"
   ]
  },
  {
   "cell_type": "code",
   "execution_count": null,
   "metadata": {},
   "outputs": [],
   "source": [
    "testdir = pathlib.Path(r'C:\\Program Files\\Attolight\\AttoMap Advanced 7.4\\Example Data')\n",
    "testfiles = list(testdir.glob('*.sur'))+list(testdir.glob('*pro'))\n",
    "savedir = pathlib.Path(r'C:\\Users\\NicolasTappy\\OneDrive - Attolight\\Desktop\\ds_testfiles')\n",
    "for tf in testfiles:\n",
    "    d = hs.load(tf)\n",
    "    comp = d.original_metadata.Object_0_Channel_0.Header.H01_Signature == 'DSCOMPRESSED'\n",
    "    nam = d.original_metadata.Object_0_Channel_0.Header.H06_Object_Name\n",
    "    abso = d.original_metadata.Object_0_Channel_0.Header.H12_Absolute\n",
    "    # print(tf.name)\n",
    "    # if d.original_metadata.Object_0_Channel_0.Header.H05_Object_Type == 12:\n",
    "    #     print(d.original_metadata.Object_0_Channel_0.Header.H23_Z_Spacing)\n",
    "    nn = savedir.joinpath(f\"EXPORTED_{tf.name}\")\n",
    "    print(f\"{nn.name}: {comp}, {abso}\")\n",
    "    d.save(nn,object_name=nam,compressed=comp,absolute=abso,overwrite=True)\n",
    "    tmp = hs.load(nn)"
   ]
  },
  {
   "cell_type": "code",
   "execution_count": null,
   "metadata": {},
   "outputs": [],
   "source": [
    "a = d.axes_manager[0]"
   ]
  },
  {
   "cell_type": "code",
   "execution_count": null,
   "metadata": {},
   "outputs": [],
   "source": [
    "a.get_axis_dictionary()"
   ]
  },
  {
   "cell_type": "code",
   "execution_count": null,
   "metadata": {},
   "outputs": [],
   "source": [
    "exptf = list(pathlib.Path(r'C:\\Users\\NicolasTappy\\OneDrive - Attolight\\Desktop\\ds_testfiles').glob('*.sur'))"
   ]
  },
  {
   "cell_type": "code",
   "execution_count": null,
   "metadata": {},
   "outputs": [],
   "source": [
    "i = 26\n",
    "print(testfiles[i].name)\n",
    "d = hs.load(testfiles[i])\n",
    "print(exptf[i].name)\n",
    "ed = hs.load(exptf[i])"
   ]
  },
  {
   "cell_type": "code",
   "execution_count": null,
   "metadata": {},
   "outputs": [],
   "source": [
    "diffdic(d.original_metadata.Object_0_Channel_0.Header.as_dictionary(),\n",
    "        ed.original_metadata.Object_0_Channel_0.Header.as_dictionary())"
   ]
  },
  {
   "cell_type": "code",
   "execution_count": null,
   "metadata": {},
   "outputs": [],
   "source": [
    "d.plot(),ed.plot(),(d-ed).plot()"
   ]
  },
  {
   "cell_type": "code",
   "execution_count": null,
   "metadata": {},
   "outputs": [],
   "source": [
    "import pathlib\n",
    "d = pathlib.Path(r\"C:\\Users\\NicolasTappy\\OneDrive - Attolight\\Documents\\GIT\\rosettasciio\\rsciio\\tests\\data\\digitalsurf\")\n",
    "fl = list(d.iterdir())\n",
    "fl"
   ]
  },
  {
   "cell_type": "code",
   "execution_count": null,
   "metadata": {},
   "outputs": [],
   "source": [
    "a = hs.load(r\"C:\\Users\\NicolasTappy\\Attolight Dropbox\\ATT_RnD\\INJECT\\hyperspectral tests\\HYP-TEST-NOLASER\\HYPCard.sur\")"
   ]
  },
  {
   "cell_type": "code",
   "execution_count": null,
   "metadata": {},
   "outputs": [],
   "source": [
    "savedir = pathlib.Path(r'C:\\Users\\NicolasTappy\\OneDrive - Attolight\\Desktop\\ds_testfiles')\n",
    "for tf in fl:\n",
    "    d = hs.load(tf)\n",
    "    try:\n",
    "        comp = d.original_metadata.Object_0_Channel_0.Header.H01_Signature == 'DSCOMPRESSED'\n",
    "        nam = d.original_metadata.Object_0_Channel_0.Header.H06_Object_Name\n",
    "        abso = d.original_metadata.Object_0_Channel_0.Header.H12_Absolute\n",
    "    except:\n",
    "        comp=False\n",
    "        nam= 'test'\n",
    "        abso = 0\n",
    "    # print(tf.name)\n",
    "    # if d.original_metadata.Object_0_Channel_0.Header.H05_Object_Type == 12:\n",
    "    #     print(d.original_metadata.Object_0_Channel_0.Header.H23_Z_Spacing)\n",
    "    nn = savedir.joinpath(f\"EXPORTED_{tf.name}\")\n",
    "    print(f\"{nn.name}: {comp}, {abso}\")\n",
    "    d.save(nn,object_name=nam,compressed=comp,absolute=abso,overwrite=True)\n",
    "    tmp = hs.load(nn)\n",
    "exptf = list(pathlib.Path(r'C:\\Users\\NicolasTappy\\OneDrive - Attolight\\Desktop\\ds_testfiles').glob('*'))\n",
    "exptf"
   ]
  },
  {
   "cell_type": "code",
   "execution_count": null,
   "metadata": {},
   "outputs": [],
   "source": [
    "t = hs.load(r\"C:\\Users\\NicolasTappy\\OneDrive - Attolight\\Desktop\\ds_testfiles\\EXPORTED_test_spectral_map.sur\")"
   ]
  },
  {
   "cell_type": "code",
   "execution_count": null,
   "metadata": {},
   "outputs": [],
   "source": [
    "b'\\x19\\x00\\x00\\x00\\x1a\\x00\\x00\\x00\\x1b\\x00\\x00\\x00\\x1c\\x00\\x00\\x00\\x1d\\x00\\x00\\x00\\x1e\\x00\\x00\\x00\\x1f\\x00\\x00\\x00 \\x00\\x00\\x00!\\x00\\x00\\x00\"\\x00\\x00\\x00#\\x00\\x00\\x00$\\x00\\x00\\x00'"
   ]
  },
  {
   "cell_type": "code",
   "execution_count": null,
   "metadata": {},
   "outputs": [],
   "source": [
    "i = 4\n",
    "print(fl[i].name)\n",
    "# d = hs.load(fl[i])\n",
    "print(exptf[i].name)\n",
    "ed = hs.load(exptf[i])"
   ]
  },
  {
   "cell_type": "code",
   "execution_count": null,
   "metadata": {},
   "outputs": [],
   "source": [
    "a = d.metadata\n",
    "a.as_dictionary()"
   ]
  },
  {
   "cell_type": "code",
   "execution_count": null,
   "metadata": {},
   "outputs": [],
   "source": [
    "d = hs.load(r\"C:\\Users\\NicolasTappy\\OneDrive - Attolight\\Pictures\\Untitled.jpg\")\n",
    "n = savedir.joinpath(f\"EXPORTED_Untitled.sur\")\n",
    "d.save(n)"
   ]
  },
  {
   "cell_type": "code",
   "execution_count": null,
   "metadata": {},
   "outputs": [],
   "source": [
    "i = 1\n",
    "d1 = hs.load(fl[i])\n",
    "d1.save(savedir.joinpath(fl[i].name),overwrite=True)\n",
    "d2 = hs.load(savedir.joinpath(fl[i].name))\n",
    "for k in ['R','G','B']:\n",
    "    plt.figure()\n",
    "    plt.imshow(d1.data[k].astype(np.int16)-d2.data[k].astype(np.int16))"
   ]
  },
  {
   "cell_type": "code",
   "execution_count": null,
   "metadata": {},
   "outputs": [],
   "source": [
    "aa[0].axis"
   ]
  },
  {
   "cell_type": "code",
   "execution_count": null,
   "metadata": {},
   "outputs": [],
   "source": [
    "k.plot()"
   ]
  },
  {
   "cell_type": "code",
   "execution_count": 1,
   "metadata": {},
   "outputs": [
    {
     "data": {
      "text/plain": [
       "array([111., 112., 113., 114., 115., 116., 117., 118., 119., 120., 121.,\n",
       "       122., 123., 124., 125., 126., 127., 128., 129., 130., 131., 132.,\n",
       "       133., 134.])"
      ]
     },
     "execution_count": 1,
     "metadata": {},
     "output_type": "execute_result"
    }
   ],
   "source": [
    "import numpy as np\n",
    "from rsciio.digitalsurf import file_writer,file_reader\n",
    "md = { 'General': {},\n",
    "       'Signal': {}}\n",
    "\n",
    "ax  = {'name': 'X',\n",
    " 'navigate': False,\n",
    " }\n",
    "\n",
    "sd = {\"data\": np.arange(24)+111,\n",
    "       \"axes\": [ax],\n",
    "       \"metadata\": md,\n",
    "       \"original_metadata\": {}}\n",
    "\n",
    "file_writer(\"test.pro\",sd)\n",
    "file_reader('test.pro')[0]['data']"
   ]
  },
  {
   "cell_type": "code",
   "execution_count": null,
   "metadata": {},
   "outputs": [],
   "source": [
    "for f in fl:\n",
    "    print(f.name)\n",
    "    d = hs.load(f)\n",
    "    # d.plot()\n",
    "    # d.save(savedir.joinpath(f.name),overwrite=True)"
   ]
  },
  {
   "cell_type": "code",
   "execution_count": null,
   "metadata": {},
   "outputs": [],
   "source": []
  },
  {
   "cell_type": "code",
   "execution_count": null,
   "metadata": {},
   "outputs": [],
   "source": []
  },
  {
   "cell_type": "code",
   "execution_count": null,
   "metadata": {},
   "outputs": [],
   "source": [
    "for f in fl:\n",
    "    print(f.name)\n",
    "    d = hs.load(savedir.joinpath(f.name))\n",
    "    # d.plot()"
   ]
  },
  {
   "cell_type": "code",
   "execution_count": null,
   "metadata": {},
   "outputs": [],
   "source": [
    "d.plot()"
   ]
  },
  {
   "cell_type": "code",
   "execution_count": null,
   "metadata": {},
   "outputs": [],
   "source": [
    "k = hs.load(savedir.joinpath('test_RGB.sur'))\n",
    "k.original_metadata"
   ]
  },
  {
   "cell_type": "code",
   "execution_count": null,
   "metadata": {},
   "outputs": [],
   "source": []
  },
  {
   "cell_type": "code",
   "execution_count": null,
   "metadata": {},
   "outputs": [],
   "source": [
    "for f in testrgbfiles:\n",
    "    print(pathlib.Path(f).name)\n",
    "    d = hs.load(f)\n",
    "    d.plot()"
   ]
  },
  {
   "cell_type": "code",
   "execution_count": null,
   "metadata": {},
   "outputs": [],
   "source": [
    "ds = DigitalSurfHandler(savedir.joinpath('test_spectra.pro'))"
   ]
  },
  {
   "cell_type": "code",
   "execution_count": null,
   "metadata": {},
   "outputs": [],
   "source": [
    "d.save(savedir.joinpath('test_spectra.pro'),comment='off')"
   ]
  },
  {
   "cell_type": "code",
   "execution_count": null,
   "metadata": {},
   "outputs": [],
   "source": []
  },
  {
   "cell_type": "code",
   "execution_count": null,
   "metadata": {},
   "outputs": [],
   "source": [
    "gen = hs.signals.Signal1D(np.arange(24,dtype=np.float32))\n",
    "fgen = savedir.joinpath('test.pro')\n",
    "gen.save(fgen,overwrite=True,is_special=False)\n",
    "gen.data"
   ]
  },
  {
   "cell_type": "code",
   "execution_count": null,
   "metadata": {},
   "outputs": [],
   "source": [
    "hs.load(fgen).original_metadata"
   ]
  },
  {
   "cell_type": "code",
   "execution_count": null,
   "metadata": {},
   "outputs": [],
   "source": [
    "11.5+11.5"
   ]
  },
  {
   "cell_type": "code",
   "execution_count": 37,
   "metadata": {},
   "outputs": [],
   "source": [
    "from rsciio.utils import rgb_tools"
   ]
  },
  {
   "cell_type": "code",
   "execution_count": 74,
   "metadata": {},
   "outputs": [],
   "source": [
    "# a = np.random.randint(0,65535,size=(8,3,12,14),dtype=np.uint16)\n",
    "a = np.random.randint(0,65535,size=(24,12,14),dtype=np.uint16)\n",
    "a = a.reshape(8,3,12,14)"
   ]
  },
  {
   "cell_type": "code",
   "execution_count": 78,
   "metadata": {},
   "outputs": [
    {
     "data": {
      "text/plain": [
       "(8, 12, 14, 3)"
      ]
     },
     "execution_count": 78,
     "metadata": {},
     "output_type": "execute_result"
    }
   ],
   "source": [
    "np.rollaxis(a,1,4).shape"
   ]
  },
  {
   "cell_type": "code",
   "execution_count": 53,
   "metadata": {},
   "outputs": [],
   "source": [
    "b = rgb_tools.regular_array2rgbx(a)"
   ]
  },
  {
   "cell_type": "code",
   "execution_count": 80,
   "metadata": {},
   "outputs": [
    {
     "data": {
      "text/plain": [
       "array([25, 26, 27, 28, 29, 30, 31, 32, 33, 34, 35, 36, 37, 38, 39, 40, 41,\n",
       "       42, 43, 44, 45, 46, 47, 48], dtype=int8)"
      ]
     },
     "execution_count": 80,
     "metadata": {},
     "output_type": "execute_result"
    }
   ],
   "source": [
    "d=hs.signals.Signal1D(np.arange(24,dtype=np.int8))+25\n",
    "d.data"
   ]
  },
  {
   "cell_type": "code",
   "execution_count": 58,
   "metadata": {},
   "outputs": [],
   "source": [
    "c = b[:8]"
   ]
  },
  {
   "cell_type": "code",
   "execution_count": 81,
   "metadata": {},
   "outputs": [
    {
     "data": {
      "text/plain": [
       "-128"
      ]
     },
     "execution_count": 81,
     "metadata": {},
     "output_type": "execute_result"
    }
   ],
   "source": [
    "- 2**(8-1)"
   ]
  },
  {
   "cell_type": "code",
   "execution_count": null,
   "metadata": {},
   "outputs": [],
   "source": []
  }
 ],
 "metadata": {
  "kernelspec": {
   "display_name": "hsdev",
   "language": "python",
   "name": "python3"
  },
  "language_info": {
   "codemirror_mode": {
    "name": "ipython",
    "version": 3
   },
   "file_extension": ".py",
   "mimetype": "text/x-python",
   "name": "python",
   "nbconvert_exporter": "python",
   "pygments_lexer": "ipython3",
   "version": "3.11.9"
  }
 },
 "nbformat": 4,
 "nbformat_minor": 2
}
