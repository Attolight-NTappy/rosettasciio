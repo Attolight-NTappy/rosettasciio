{
 "cells": [
  {
   "cell_type": "code",
   "execution_count": null,
   "metadata": {
    "tags": []
   },
   "outputs": [],
   "source": [
    "import time \n",
    "import matplotlib.pyplot as plt\n",
    "import hyperspy.api as hs\n",
    "import numpy as np\n",
    "\n",
    "save_times_z = []\n",
    "load_times_z =[]\n",
    "save_times_h = []\n",
    "load_times_h =[]\n",
    "\n",
    "num_pos = [100, 500, 1000, 2000, 4000, 10000, 40000, 100000,1000000]\n",
    "load_times =[]\n",
    "for i in num_pos:\n",
    "    np.random.seed(42)\n",
    "    data = np.array([np.random.random(size=np.random.randint(0, 20)).astype(np.float64)\n",
    "                  for i in range(i)], dtype=object)\n",
    "        \n",
    "    s = hs.signals.BaseSignal(data)\n",
    "    \n",
    "    tic = time.time()\n",
    "    s.save(\"data.zspy\", overwrite=True)\n",
    "    toc =time.time()\n",
    "    save_times_z.append(toc-tic)\n",
    "    \n",
    "    tic = time.time()\n",
    "    hs.load(\"data.zspy\")\n",
    "    toc =time.time()\n",
    "    load_times_z.append(toc-tic)\n",
    "    \n",
    "    tic = time.time()\n",
    "    s.save(\"data.hspy\", overwrite=True)\n",
    "    toc =time.time()\n",
    "    save_times_h.append(toc-tic)\n",
    "    \n",
    "    tic = time.time()\n",
    "    hs.load(\"data.hspy\")\n",
    "    toc =time.time()\n",
    "    load_times_h.append(toc-tic)\n",
    "\n",
    "plt.plot(num_pos, load_times_z, label=\"loading time (zspy)\")\n",
    "plt.plot(num_pos, save_times_z, label=\"saving time (zspy)\")\n",
    "plt.plot(num_pos, load_times_h, label=\"loading time (hspy)\")\n",
    "plt.plot(num_pos, save_times_h, label=\"saving time (hspy\")\n",
    "plt.xlabel(\"number of positions\")\n",
    "plt.ylabel(\"time in sec\")\n",
    "plt.legend()"
   ]
  },
  {
   "cell_type": "code",
   "execution_count": null,
   "metadata": {},
   "outputs": [],
   "source": []
  }
 ],
 "metadata": {
  "kernelspec": {
   "display_name": "development",
   "language": "python",
   "name": "development"
  },
  "language_info": {
   "codemirror_mode": {
    "name": "ipython",
    "version": 3
   },
   "file_extension": ".py",
   "mimetype": "text/x-python",
   "name": "python",
   "nbconvert_exporter": "python",
   "pygments_lexer": "ipython3",
   "version": "3.10.11"
  }
 },
 "nbformat": 4,
 "nbformat_minor": 4
}
